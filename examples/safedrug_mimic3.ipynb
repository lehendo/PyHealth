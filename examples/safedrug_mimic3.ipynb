{
  "cells": [
    {
      "cell_type": "markdown",
      "metadata": {},
      "source": [
        "# SafeDrug Model Training on MIMIC-III Dataset\n",
        "\n",
        "Train the SafeDrug model for medication recommendation on the MIMIC-III dataset.\n",
        "\n"
      ]
    },
    {
      "cell_type": "code",
      "execution_count": 1,
      "metadata": {},
      "outputs": [
        {
          "name": "stderr",
          "output_type": "stream",
          "text": [
            "/usr/local/Caskroom/miniforge/base/lib/python3.12/site-packages/tqdm/auto.py:21: TqdmWarning: IProgress not found. Please update jupyter and ipywidgets. See https://ipywidgets.readthedocs.io/en/stable/user_install.html\n",
            "  from .autonotebook import tqdm as notebook_tqdm\n"
          ]
        },
        {
          "name": "stdout",
          "output_type": "stream",
          "text": [
            "No config path provided, using default config\n",
            "Initializing mimic3 dataset from https://storage.googleapis.com/pyhealth/Synthetic_MIMIC-III (dev mode: True)\n",
            "Scanning table: patients from https://storage.googleapis.com/pyhealth/Synthetic_MIMIC-III/PATIENTS.csv.gz\n",
            "Original path does not exist. Using alternative: https://storage.googleapis.com/pyhealth/Synthetic_MIMIC-III/PATIENTS.csv\n",
            "Some column names were converted to lowercase\n",
            "Scanning table: admissions from https://storage.googleapis.com/pyhealth/Synthetic_MIMIC-III/ADMISSIONS.csv.gz\n",
            "Original path does not exist. Using alternative: https://storage.googleapis.com/pyhealth/Synthetic_MIMIC-III/ADMISSIONS.csv\n",
            "Some column names were converted to lowercase\n",
            "Scanning table: icustays from https://storage.googleapis.com/pyhealth/Synthetic_MIMIC-III/ICUSTAYS.csv.gz\n",
            "Original path does not exist. Using alternative: https://storage.googleapis.com/pyhealth/Synthetic_MIMIC-III/ICUSTAYS.csv\n",
            "Some column names were converted to lowercase\n",
            "Scanning table: diagnoses_icd from https://storage.googleapis.com/pyhealth/Synthetic_MIMIC-III/DIAGNOSES_ICD.csv.gz\n",
            "Original path does not exist. Using alternative: https://storage.googleapis.com/pyhealth/Synthetic_MIMIC-III/DIAGNOSES_ICD.csv\n",
            "Some column names were converted to lowercase\n",
            "Joining with table: https://storage.googleapis.com/pyhealth/Synthetic_MIMIC-III/ADMISSIONS.csv.gz\n",
            "Original path does not exist. Using alternative: https://storage.googleapis.com/pyhealth/Synthetic_MIMIC-III/ADMISSIONS.csv\n",
            "Scanning table: procedures_icd from https://storage.googleapis.com/pyhealth/Synthetic_MIMIC-III/PROCEDURES_ICD.csv.gz\n",
            "Original path does not exist. Using alternative: https://storage.googleapis.com/pyhealth/Synthetic_MIMIC-III/PROCEDURES_ICD.csv\n",
            "Some column names were converted to lowercase\n",
            "Joining with table: https://storage.googleapis.com/pyhealth/Synthetic_MIMIC-III/ADMISSIONS.csv.gz\n",
            "Original path does not exist. Using alternative: https://storage.googleapis.com/pyhealth/Synthetic_MIMIC-III/ADMISSIONS.csv\n",
            "Scanning table: prescriptions from https://storage.googleapis.com/pyhealth/Synthetic_MIMIC-III/PRESCRIPTIONS.csv.gz\n",
            "Original path does not exist. Using alternative: https://storage.googleapis.com/pyhealth/Synthetic_MIMIC-III/PRESCRIPTIONS.csv\n",
            "Some column names were converted to lowercase\n",
            "Joining with table: https://storage.googleapis.com/pyhealth/Synthetic_MIMIC-III/ADMISSIONS.csv.gz\n",
            "Original path does not exist. Using alternative: https://storage.googleapis.com/pyhealth/Synthetic_MIMIC-III/ADMISSIONS.csv\n",
            "Collecting global event dataframe...\n",
            "Dev mode enabled: limiting to 1000 patients\n",
            "Collected dataframe with shape: (45029, 49)\n",
            "Dataset: mimic3\n",
            "Dev mode: True\n",
            "Number of patients: 1000\n",
            "Number of events: 45029\n"
          ]
        }
      ],
      "source": [
        "from pyhealth.datasets import MIMIC3Dataset\n",
        "\n",
        "dataset = MIMIC3Dataset(\n",
        "    root=\"https://storage.googleapis.com/pyhealth/Synthetic_MIMIC-III\",\n",
        "    tables=[\"DIAGNOSES_ICD\", \"PROCEDURES_ICD\", \"PRESCRIPTIONS\"],\n",
        "    dev=True,\n",
        ")\n",
        "dataset.stats()\n",
        "\n"
      ]
    },
    {
      "cell_type": "markdown",
      "metadata": {},
      "source": [
        "## Set Drug Recommendation Task\n",
        "\n",
        "Use the `drug_recommendation_mimic3_fn` task function which creates samples with conditions, procedures, and atc-3 codes (drugs).\n",
        "\n"
      ]
    },
    {
      "cell_type": "code",
      "execution_count": 2,
      "metadata": {},
      "outputs": [
        {
          "name": "stdout",
          "output_type": "stream",
          "text": [
            "Setting task DrugRecommendationMIMIC3 for mimic3 base dataset...\n",
            "Generating samples with 4 worker(s)...\n",
            "Generating samples for DrugRecommendationMIMIC3 with 4 workers\n"
          ]
        },
        {
          "name": "stderr",
          "output_type": "stream",
          "text": [
            "Collecting samples for DrugRecommendationMIMIC3 from 4 workers: 100%|██████████| 1000/1000 [00:00<00:00, 4373.27it/s]"
          ]
        },
        {
          "name": "stdout",
          "output_type": "stream",
          "text": [
            "Label drugs vocab: {'*NF*': 0, '1/2 ': 1, 'ACD-': 2, 'Acet': 3, 'Acyc': 4, 'Albu': 5, 'Allo': 6, 'Alpr': 7, 'Alte': 8, 'Alum': 9, 'Ambi': 10, 'Amin': 11, 'Amio': 12, 'Amlo': 13, 'Amox': 14, 'Ampi': 15, 'Arga': 16, 'Arti': 17, 'Asco': 18, 'Aspi': 19, 'Ator': 20, 'Atro': 21, 'Avap': 22, 'Azat': 23, 'Azit': 24, 'Aztr': 25, 'Bacl': 26, 'Beth': 27, 'Bisa': 28, 'Bume': 29, 'Calc': 30, 'Carb': 31, 'Carv': 32, 'Casp': 33, 'Cefa': 34, 'Cefe': 35, 'Ceft': 36, 'Ceph': 37, 'Chlo': 38, 'Cipr': 39, 'Cisa': 40, 'Cita': 41, 'Clin': 42, 'Clon': 43, 'Clop': 44, 'Colc': 45, 'Coli': 46, 'Cosy': 47, 'Cyan': 48, 'D5 1': 49, 'D5W': 50, 'D5W ': 51, 'DOBU': 52, 'Daki': 53, 'Dapt': 54, 'Dexa': 55, 'Dexm': 56, 'Dext': 57, 'Diaz': 58, 'Digo': 59, 'Dilt': 60, 'Diph': 61, 'Diva': 62, 'Docu': 63, 'Dola': 64, 'Done': 65, 'DopA': 66, 'Dorz': 67, 'Doxy': 68, 'Enox': 69, 'Epin': 70, 'Epoe': 71, 'Epti': 72, 'Eryt': 73, 'Euce': 74, 'Exce': 75, 'Ezet': 76, 'Famo': 77, 'Fent': 78, 'Ferr': 79, 'Fexo': 80, 'Fluc': 81, 'Flut': 82, 'Foli': 83, 'Fosp': 84, 'Furo': 85, 'Gaba': 86, 'Ganc': 87, 'Gent': 88, 'Glip': 89, 'Gluc': 90, 'GlyB': 91, 'Glyc': 92, 'Goly': 93, 'HYDR': 94, 'Halo': 95, 'Hepa': 96, 'Hesp': 97, 'Humu': 98, 'Hydr': 99, 'Hyos': 100, 'Ibup': 101, 'Infl': 102, 'Insu': 103, 'Ipra': 104, 'Isos': 105, 'Janu': 106, 'Keto': 107, 'LR': 108, 'LaMI': 109, 'Labe': 110, 'Lact': 111, 'Lans': 112, 'Leuc': 113, 'Leva': 114, 'Levo': 115, 'Lido': 116, 'Line': 117, 'Lisi': 118, 'Lith': 119, 'Lope': 120, 'Lora': 121, 'Losa': 122, 'Lyri': 123, 'Magn': 124, 'Mege': 125, 'Mepe': 126, 'Mero': 127, 'MetF': 128, 'MetR': 129, 'Metf': 130, 'Meth': 131, 'Meto': 132, 'Metr': 133, 'Mico': 134, 'Mida': 135, 'Mido': 136, 'Milk': 137, 'Milr': 138, 'Mino': 139, 'Mirt': 140, 'Morp': 141, 'Mult': 142, 'Mupi': 143, 'Myco': 144, 'NIFE': 145, 'NS': 146, 'NS (': 147, 'Neos': 148, 'Neph': 149, 'Nesi': 150, 'Neut': 151, 'Nico': 152, 'Nitr': 153, 'Nore': 154, 'Nyst': 155, 'Olan': 156, 'Omep': 157, 'Onda': 158, 'Oxac': 159, 'Oxca': 160, 'Oxyc': 161, 'Oxym': 162, 'Pang': 163, 'Pant': 164, 'Paro': 165, 'Pent': 166, 'Phen': 167, 'Phyt': 168, 'Piog': 169, 'Pipe': 170, 'Pneu': 171, 'Poly': 172, 'Pota': 173, 'Prav': 174, 'Pred': 175, 'Prob': 176, 'Proc': 177, 'Prop': 178, 'Prot': 179, 'Pseu': 180, 'Psyl': 181, 'Pyri': 182, 'Rani': 183, 'Rifa': 184, 'Rito': 185, 'Rosi': 186, 'Rosu': 187, 'Sali': 188, 'Sarn': 189, 'Senn': 190, 'Sert': 191, 'Seve': 192, 'Sime': 193, 'Simv': 194, 'Siro': 195, 'Sodi': 196, 'Spir': 197, 'Sucr': 198, 'Sulf': 199, 'Tacr': 200, 'Tams': 201, 'Tema': 202, 'Tera': 203, 'Test': 204, 'Thia': 205, 'Timo': 206, 'Tiot': 207, 'TraM': 208, 'Tric': 209, 'Tuck': 210, 'Vals': 211, 'Vanc': 212, 'Vaso': 213, 'Vecu': 214, 'Viok': 215, 'Vita': 216, 'Vori': 217, 'Warf': 218, 'Zolp': 219, 'traZ': 220}\n"
          ]
        },
        {
          "name": "stderr",
          "output_type": "stream",
          "text": [
            "\n",
            "Processing samples: 100%|██████████| 39/39 [00:00<00:00, 785.35it/s]"
          ]
        },
        {
          "name": "stdout",
          "output_type": "stream",
          "text": [
            "Generated 39 samples for task DrugRecommendationMIMIC3\n"
          ]
        },
        {
          "name": "stderr",
          "output_type": "stream",
          "text": [
            "\n"
          ]
        },
        {
          "name": "stdout",
          "output_type": "stream",
          "text": [
            "Sample Dataset Statistics:\n",
            "\t- Dataset: mimic3\n",
            "\t- Task: <__main__.FixedDrugRecommendationMIMIC3 object at 0x139193ef0>\n",
            "\t- Number of samples: 39\n",
            "\n",
            "First sample structure:\n",
            "Patient ID: 44309\n",
            "Number of visits: 1\n",
            "Sample conditions (first visit): tensor([1, 2, 3, 4, 5])...\n",
            "Sample procedures (first visit): tensor([1, 2, 3, 0, 0])...\n",
            "Sample drugs (target): tensor([0., 0., 0., 0., 0., 0., 0., 0., 0., 0.])...\n"
          ]
        }
      ],
      "source": [
        "from pyhealth.tasks import DrugRecommendationMIMIC3\n",
        "\n",
        "class FixedDrugRecommendationMIMIC3(DrugRecommendationMIMIC3):\n",
        "    def __call__(self, patient):\n",
        "        import polars as pl\n",
        "        samples = []\n",
        "        admissions = patient.get_events(event_type=\"admissions\")\n",
        "        if len(admissions) < 2:\n",
        "            return []\n",
        "        \n",
        "        for i, admission in enumerate(admissions):\n",
        "            try:\n",
        "                hadm_id = admission.hadm_id\n",
        "            except AttributeError:\n",
        "                hadm_id = getattr(admission, \"hadm_id\", None)\n",
        "                if hadm_id is None:\n",
        "                    hadm_id = admission[\"hadm_id\"] if \"hadm_id\" in admission else None\n",
        "                if hadm_id is None:\n",
        "                    continue\n",
        "            \n",
        "            diagnoses_icd = patient.get_events(\n",
        "                event_type=\"diagnoses_icd\",\n",
        "                filters=[(\"hadm_id\", \"==\", hadm_id)],\n",
        "                return_df=True,\n",
        "            )\n",
        "            conditions = (\n",
        "                diagnoses_icd.select(pl.col(\"diagnoses_icd/icd9_code\"))\n",
        "                .to_series()\n",
        "                .to_list()\n",
        "            )\n",
        "            \n",
        "            procedures_icd = patient.get_events(\n",
        "                event_type=\"procedures_icd\",\n",
        "                filters=[(\"hadm_id\", \"==\", hadm_id)],\n",
        "                return_df=True,\n",
        "            )\n",
        "            procedures = (\n",
        "                procedures_icd.select(pl.col(\"procedures_icd/icd9_code\"))\n",
        "                .to_series()\n",
        "                .to_list()\n",
        "            )\n",
        "            \n",
        "            prescriptions = patient.get_events(\n",
        "                event_type=\"prescriptions\",\n",
        "                filters=[(\"hadm_id\", \"==\", hadm_id)],\n",
        "                return_df=True,\n",
        "            )\n",
        "            drugs = (\n",
        "                prescriptions.select(pl.col(\"prescriptions/drug\")).to_series().to_list()\n",
        "            )\n",
        "            drugs = [drug[:4] for drug in drugs if drug]\n",
        "            \n",
        "            if len(conditions) * len(procedures) * len(drugs) == 0:\n",
        "                continue\n",
        "                \n",
        "            samples.append({\n",
        "                \"visit_id\": hadm_id,\n",
        "                \"patient_id\": patient.patient_id,\n",
        "                \"conditions\": conditions,\n",
        "                \"procedures\": procedures,\n",
        "                \"drugs\": drugs,\n",
        "                \"drugs_hist\": drugs,\n",
        "            })\n",
        "        \n",
        "        if len(samples) < 2:\n",
        "            return []\n",
        "        \n",
        "        samples[0][\"conditions\"] = [samples[0][\"conditions\"]]\n",
        "        samples[0][\"procedures\"] = [samples[0][\"procedures\"]]\n",
        "        samples[0][\"drugs_hist\"] = [samples[0][\"drugs_hist\"]]\n",
        "        \n",
        "        for i in range(1, len(samples)):\n",
        "            samples[i][\"conditions\"] = samples[i - 1][\"conditions\"] + [samples[i][\"conditions\"]]\n",
        "            samples[i][\"procedures\"] = samples[i - 1][\"procedures\"] + [samples[i][\"procedures\"]]\n",
        "            samples[i][\"drugs_hist\"] = samples[i - 1][\"drugs_hist\"] + [samples[i][\"drugs_hist\"]]\n",
        "        \n",
        "        for i in range(len(samples)):\n",
        "            samples[i][\"drugs_hist\"][i] = []\n",
        "        \n",
        "        return samples\n",
        "\n",
        "task = FixedDrugRecommendationMIMIC3()\n",
        "samples = dataset.set_task(task, num_workers=4)\n",
        "\n",
        "print(f\"Sample Dataset Statistics:\")\n",
        "print(f\"\\t- Dataset: {samples.dataset_name}\")\n",
        "print(f\"\\t- Task: {samples.task_name}\")\n",
        "print(f\"\\t- Number of samples: {len(samples)}\")\n",
        "\n",
        "print(\"\\nFirst sample structure:\")\n",
        "print(f\"Patient ID: {samples.samples[0]['patient_id']}\")\n",
        "print(f\"Number of visits: {len(samples.samples[0]['conditions'])}\")\n",
        "print(f\"Sample conditions (first visit): {samples.samples[0]['conditions'][0][:5]}...\")\n",
        "print(f\"Sample procedures (first visit): {samples.samples[0]['procedures'][0][:5]}...\")\n",
        "print(f\"Sample drugs (target): {samples.samples[0]['drugs'][:10]}...\")\n",
        "\n"
      ]
    },
    {
      "cell_type": "markdown",
      "metadata": {},
      "source": [
        "## Split Dataset and Create Data Loaders\n",
        "\n",
        "Split the dataset by patient to ensure no data leakage between train/validation/test sets.\n",
        "\n"
      ]
    },
    {
      "cell_type": "code",
      "execution_count": 3,
      "metadata": {},
      "outputs": [
        {
          "name": "stdout",
          "output_type": "stream",
          "text": [
            "Train samples: 26\n",
            "Validation samples: 4\n",
            "Test samples: 9\n"
          ]
        }
      ],
      "source": [
        "from pyhealth.datasets import split_by_patient, get_dataloader\n",
        "\n",
        "train_dataset, val_dataset, test_dataset = split_by_patient(\n",
        "    samples, ratios=[0.7, 0.1, 0.2]\n",
        ")\n",
        "\n",
        "print(f\"Train samples: {len(train_dataset)}\")\n",
        "print(f\"Validation samples: {len(val_dataset)}\")\n",
        "print(f\"Test samples: {len(test_dataset)}\")\n",
        "\n",
        "train_dataloader = get_dataloader(train_dataset, batch_size=32, shuffle=True)\n",
        "val_dataloader = get_dataloader(val_dataset, batch_size=32, shuffle=False)\n",
        "test_dataloader = get_dataloader(test_dataset, batch_size=32, shuffle=False)\n",
        "\n"
      ]
    },
    {
      "cell_type": "markdown",
      "metadata": {},
      "source": [
        "## Initialize SafeDrug Model\n"
      ]
    },
    {
      "cell_type": "code",
      "execution_count": 4,
      "metadata": {},
      "outputs": [
        {
          "name": "stderr",
          "output_type": "stream",
          "text": [
            "/Users/arjunchatterjee/PyHealth/pyhealth/sampler/sage_sampler.py:3: UserWarning: pkg_resources is deprecated as an API. See https://setuptools.pypa.io/en/latest/pkg_resources.html. The pkg_resources package is slated for removal as early as 2025-11-30. Refrain from using this package or pin to Setuptools<81.\n",
            "  import pkg_resources\n"
          ]
        },
        {
          "name": "stdout",
          "output_type": "stream",
          "text": [
            "SafeDrug(\n",
            "  (embeddings): ModuleDict(\n",
            "    (conditions): Embedding(255, 128, padding_idx=0)\n",
            "    (procedures): Embedding(86, 128, padding_idx=0)\n",
            "    (drugs_hist): Embedding(160, 128, padding_idx=0)\n",
            "  )\n",
            "  (cond_rnn): GRU(128, 128, batch_first=True)\n",
            "  (proc_rnn): GRU(128, 128, batch_first=True)\n",
            "  (query): Sequential(\n",
            "    (0): ReLU()\n",
            "    (1): Linear(in_features=256, out_features=128, bias=True)\n",
            "  )\n",
            "  (safedrug): SafeDrugLayer(\n",
            "    (bipartite_transform): Linear(in_features=128, out_features=0, bias=True)\n",
            "    (bipartite_output): Linear(in_features=0, out_features=221, bias=True)\n",
            "    (mpnn): MolecularGraphNeuralNetwork(\n",
            "      (embed_fingerprint): Embedding(1, 128)\n",
            "      (W_fingerprint): ModuleList(\n",
            "        (0-1): 2 x Linear(in_features=128, out_features=128, bias=True)\n",
            "      )\n",
            "    )\n",
            "    (mpnn_output): Linear(in_features=221, out_features=221, bias=True)\n",
            "    (mpnn_layernorm): LayerNorm((221,), eps=1e-05, elementwise_affine=True)\n",
            "    (test): Linear(in_features=128, out_features=221, bias=True)\n",
            "    (loss_fn): BCEWithLogitsLoss()\n",
            "  )\n",
            ")\n"
          ]
        },
        {
          "name": "stderr",
          "output_type": "stream",
          "text": [
            "/usr/local/Caskroom/miniforge/base/lib/python3.12/site-packages/torch/nn/init.py:452: UserWarning: Initializing zero-element tensors is a no-op\n",
            "  warnings.warn(\"Initializing zero-element tensors is a no-op\")\n"
          ]
        }
      ],
      "source": [
        "from pyhealth.models import SafeDrug\n",
        "\n",
        "model = SafeDrug(\n",
        "    dataset=samples,\n",
        "    embedding_dim=128,\n",
        "    hidden_dim=128,\n",
        "    num_layers=1,\n",
        "    dropout=0.5,\n",
        ")\n",
        "\n",
        "print(model)\n",
        "\n"
      ]
    },
    {
      "cell_type": "markdown",
      "metadata": {},
      "source": [
        "## Initialize Trainer\n",
        "\n",
        "We use jaccard similarity, f1 score, pr_auc, ddi score.\n",
        "\n"
      ]
    },
    {
      "cell_type": "code",
      "execution_count": 5,
      "metadata": {},
      "outputs": [
        {
          "name": "stdout",
          "output_type": "stream",
          "text": [
            "SafeDrug(\n",
            "  (embeddings): ModuleDict(\n",
            "    (conditions): Embedding(255, 128, padding_idx=0)\n",
            "    (procedures): Embedding(86, 128, padding_idx=0)\n",
            "    (drugs_hist): Embedding(160, 128, padding_idx=0)\n",
            "  )\n",
            "  (cond_rnn): GRU(128, 128, batch_first=True)\n",
            "  (proc_rnn): GRU(128, 128, batch_first=True)\n",
            "  (query): Sequential(\n",
            "    (0): ReLU()\n",
            "    (1): Linear(in_features=256, out_features=128, bias=True)\n",
            "  )\n",
            "  (safedrug): SafeDrugLayer(\n",
            "    (bipartite_transform): Linear(in_features=128, out_features=0, bias=True)\n",
            "    (bipartite_output): Linear(in_features=0, out_features=221, bias=True)\n",
            "    (mpnn): MolecularGraphNeuralNetwork(\n",
            "      (embed_fingerprint): Embedding(1, 128)\n",
            "      (W_fingerprint): ModuleList(\n",
            "        (0-1): 2 x Linear(in_features=128, out_features=128, bias=True)\n",
            "      )\n",
            "    )\n",
            "    (mpnn_output): Linear(in_features=221, out_features=221, bias=True)\n",
            "    (mpnn_layernorm): LayerNorm((221,), eps=1e-05, elementwise_affine=True)\n",
            "    (test): Linear(in_features=128, out_features=221, bias=True)\n",
            "    (loss_fn): BCEWithLogitsLoss()\n",
            "  )\n",
            ")\n",
            "Metrics: ['jaccard_samples', 'f1_samples', 'pr_auc_samples', 'ddi']\n",
            "Device: cpu\n",
            "\n",
            "Baseline performance before training:\n"
          ]
        },
        {
          "name": "stderr",
          "output_type": "stream",
          "text": [
            "Evaluation: 100%|██████████| 1/1 [00:02<00:00,  2.50s/it]\n"
          ]
        },
        {
          "name": "stdout",
          "output_type": "stream",
          "text": [
            "{'jaccard_samples': 0.13826043237807945, 'f1_samples': 0.21695747906523977, 'pr_auc_samples': 0.13826043237807945, 'ddi_score': 0.0, 'loss': 0.6931472420692444}\n"
          ]
        }
      ],
      "source": [
        "from pyhealth.trainer import Trainer\n",
        "\n",
        "trainer = Trainer(\n",
        "    model=model,\n",
        "    metrics=[\"jaccard_samples\", \"f1_samples\", \"pr_auc_samples\", \"ddi\"],\n",
        ")\n",
        "\n",
        "print(\"Baseline performance before training:\")\n",
        "baseline_results = trainer.evaluate(test_dataloader)\n",
        "print(baseline_results)\n",
        "\n"
      ]
    },
    {
      "cell_type": "markdown",
      "metadata": {},
      "source": [
        "## Train the Model\n",
        "\n",
        "Train the model for a few epochs. I used 5 epochs here. Might need to train for more epochs in prod.\n",
        "\n"
      ]
    },
    {
      "cell_type": "code",
      "execution_count": 6,
      "metadata": {},
      "outputs": [
        {
          "name": "stdout",
          "output_type": "stream",
          "text": [
            "Training:\n",
            "Batch size: 32\n",
            "Optimizer: <class 'torch.optim.adam.Adam'>\n",
            "Optimizer params: {'lr': 0.0001}\n",
            "Weight decay: 0.0\n",
            "Max grad norm: None\n",
            "Val dataloader: <torch.utils.data.dataloader.DataLoader object at 0x138da0f80>\n",
            "Monitor: pr_auc_samples\n",
            "Monitor criterion: max\n",
            "Epochs: 5\n",
            "\n"
          ]
        },
        {
          "name": "stderr",
          "output_type": "stream",
          "text": [
            "Epoch 0 / 5: 100%|██████████| 1/1 [00:04<00:00,  4.33s/it]"
          ]
        },
        {
          "name": "stdout",
          "output_type": "stream",
          "text": [
            "--- Train epoch-0, step-1 ---\n",
            "loss: 0.6931\n"
          ]
        },
        {
          "name": "stderr",
          "output_type": "stream",
          "text": [
            "\n",
            "Evaluation: 100%|██████████| 1/1 [00:00<00:00, 170.35it/s]\n"
          ]
        },
        {
          "name": "stdout",
          "output_type": "stream",
          "text": [
            "--- Eval epoch-0, step-1 ---\n",
            "jaccard_samples: 0.1357\n",
            "f1_samples: 0.2321\n",
            "pr_auc_samples: 0.2757\n",
            "ddi_score: 0.0000\n",
            "loss: 0.6931\n",
            "New best pr_auc_samples score (0.2757) at epoch-0, step-1\n",
            "\n"
          ]
        },
        {
          "name": "stderr",
          "output_type": "stream",
          "text": [
            "Epoch 1 / 5: 100%|██████████| 1/1 [00:00<00:00, 24.76it/s]"
          ]
        },
        {
          "name": "stdout",
          "output_type": "stream",
          "text": [
            "--- Train epoch-1, step-2 ---\n",
            "loss: 0.6931\n"
          ]
        },
        {
          "name": "stderr",
          "output_type": "stream",
          "text": [
            "\n",
            "Evaluation: 100%|██████████| 1/1 [00:00<00:00, 178.95it/s]\n"
          ]
        },
        {
          "name": "stdout",
          "output_type": "stream",
          "text": [
            "--- Eval epoch-1, step-2 ---\n",
            "jaccard_samples: 0.1357\n",
            "f1_samples: 0.2321\n",
            "pr_auc_samples: 0.2771\n",
            "ddi_score: 0.0000\n",
            "loss: 0.6931\n",
            "New best pr_auc_samples score (0.2771) at epoch-1, step-2\n",
            "\n"
          ]
        },
        {
          "name": "stderr",
          "output_type": "stream",
          "text": [
            "Epoch 2 / 5: 100%|██████████| 1/1 [00:00<00:00, 36.40it/s]"
          ]
        },
        {
          "name": "stdout",
          "output_type": "stream",
          "text": [
            "--- Train epoch-2, step-3 ---\n",
            "loss: 0.6931\n"
          ]
        },
        {
          "name": "stderr",
          "output_type": "stream",
          "text": [
            "\n",
            "Evaluation: 100%|██████████| 1/1 [00:00<00:00, 137.51it/s]\n"
          ]
        },
        {
          "name": "stdout",
          "output_type": "stream",
          "text": [
            "--- Eval epoch-2, step-3 ---\n",
            "jaccard_samples: 0.1357\n",
            "f1_samples: 0.2321\n",
            "pr_auc_samples: 0.2793\n",
            "ddi_score: 0.0000\n",
            "loss: 0.6931\n",
            "New best pr_auc_samples score (0.2793) at epoch-2, step-3\n",
            "\n"
          ]
        },
        {
          "name": "stderr",
          "output_type": "stream",
          "text": [
            "Epoch 3 / 5: 100%|██████████| 1/1 [00:00<00:00, 23.04it/s]"
          ]
        },
        {
          "name": "stdout",
          "output_type": "stream",
          "text": [
            "--- Train epoch-3, step-4 ---\n",
            "loss: 0.6930\n"
          ]
        },
        {
          "name": "stderr",
          "output_type": "stream",
          "text": [
            "\n",
            "Evaluation: 100%|██████████| 1/1 [00:00<00:00, 94.55it/s]\n"
          ]
        },
        {
          "name": "stdout",
          "output_type": "stream",
          "text": [
            "--- Eval epoch-3, step-4 ---\n",
            "jaccard_samples: 0.1357\n",
            "f1_samples: 0.2321\n",
            "pr_auc_samples: 0.2809\n",
            "ddi_score: 0.0000\n",
            "loss: 0.6930\n",
            "New best pr_auc_samples score (0.2809) at epoch-3, step-4\n",
            "\n"
          ]
        },
        {
          "name": "stderr",
          "output_type": "stream",
          "text": [
            "Epoch 4 / 5: 100%|██████████| 1/1 [00:00<00:00, 37.30it/s]"
          ]
        },
        {
          "name": "stdout",
          "output_type": "stream",
          "text": [
            "--- Train epoch-4, step-5 ---\n",
            "loss: 0.6930\n"
          ]
        },
        {
          "name": "stderr",
          "output_type": "stream",
          "text": [
            "\n",
            "Evaluation: 100%|██████████| 1/1 [00:00<00:00, 146.58it/s]\n"
          ]
        },
        {
          "name": "stdout",
          "output_type": "stream",
          "text": [
            "--- Eval epoch-4, step-5 ---\n",
            "jaccard_samples: 0.1357\n",
            "f1_samples: 0.2321\n",
            "pr_auc_samples: 0.2836\n",
            "ddi_score: 0.0000\n",
            "loss: 0.6930\n",
            "New best pr_auc_samples score (0.2836) at epoch-4, step-5\n",
            "Loaded best model\n"
          ]
        }
      ],
      "source": [
        "trainer.train(\n",
        "    train_dataloader=train_dataloader,\n",
        "    val_dataloader=val_dataloader,\n",
        "    epochs=5,\n",
        "    monitor=\"pr_auc_samples\",\n",
        "    optimizer_params={\"lr\": 1e-4},\n",
        ")\n",
        "\n"
      ]
    },
    {
      "cell_type": "markdown",
      "metadata": {},
      "source": [
        "## Evaluate on Test Set\n",
        "\n",
        "Evaluate the trained model on the test set to see final performance metrics.\n",
        "\n",
        "I get DDI = 0. That is abnormally low. (In a good way, I guess?)"
      ]
    },
    {
      "cell_type": "code",
      "execution_count": 7,
      "metadata": {},
      "outputs": [
        {
          "name": "stderr",
          "output_type": "stream",
          "text": [
            "Evaluation: 100%|██████████| 1/1 [00:00<00:00, 106.38it/s]\n"
          ]
        },
        {
          "name": "stdout",
          "output_type": "stream",
          "text": [
            "Final test set performance:\n",
            "{'jaccard_samples': 0.13826043237807945, 'f1_samples': 0.21695747906523977, 'pr_auc_samples': 0.31234568776484584, 'ddi_score': 0.0, 'loss': 0.6929892897605896}\n",
            "\n",
            "Key Metrics:\n",
            "  PR-AUC: 0.3123\n",
            "  F1 Score: 0.2170\n",
            "  Jaccard: 0.1383\n",
            "  DDI Rate: 0.0000 (lower is better)\n"
          ]
        }
      ],
      "source": [
        "test_results = trainer.evaluate(test_dataloader)\n",
        "print(\"Final test set performance:\")\n",
        "print(test_results)\n",
        "\n",
        "print(f\"\\nKey Metrics:\")\n",
        "print(f\"  PR-AUC: {test_results.get('pr_auc_samples', 'N/A'):.4f}\")\n",
        "print(f\"  F1 Score: {test_results.get('f1_samples', 'N/A'):.4f}\")\n",
        "print(f\"  Jaccard: {test_results.get('jaccard_samples', 'N/A'):.4f}\")\n",
        "print(f\"  DDI Rate: {test_results.get('ddi_score', 'N/A'):.4f} (lower is better)\")\n",
        "\n"
      ]
    }
  ],
  "metadata": {
    "kernelspec": {
      "display_name": "base",
      "language": "python",
      "name": "python3"
    },
    "language_info": {
      "codemirror_mode": {
        "name": "ipython",
        "version": 3
      },
      "file_extension": ".py",
      "mimetype": "text/x-python",
      "name": "python",
      "nbconvert_exporter": "python",
      "pygments_lexer": "ipython3",
      "version": "3.12.11"
    }
  },
  "nbformat": 4,
  "nbformat_minor": 2
}

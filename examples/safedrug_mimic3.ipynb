{
  "cells": [
    {
      "cell_type": "markdown",
      "metadata": {},
      "source": [
        "# SafeDrug Model Training on MIMIC-III Dataset\n",
        "\n",
        "Train the SafeDrug model for medication recommendation on the MIMIC-III dataset.\n",
        "\n"
      ]
    },
    {
      "cell_type": "code",
      "execution_count": 1,
      "metadata": {},
      "outputs": [
        {
          "name": "stderr",
          "output_type": "stream",
          "text": [
            "/usr/local/Caskroom/miniforge/base/lib/python3.12/site-packages/tqdm/auto.py:21: TqdmWarning: IProgress not found. Please update jupyter and ipywidgets. See https://ipywidgets.readthedocs.io/en/stable/user_install.html\n",
            "  from .autonotebook import tqdm as notebook_tqdm\n"
          ]
        },
        {
          "name": "stdout",
          "output_type": "stream",
          "text": [
            "No config path provided, using default config\n",
            "Initializing mimic3 dataset from https://storage.googleapis.com/pyhealth/Synthetic_MIMIC-III (dev mode: True)\n",
            "Scanning table: patients from https://storage.googleapis.com/pyhealth/Synthetic_MIMIC-III/PATIENTS.csv.gz\n",
            "Original path does not exist. Using alternative: https://storage.googleapis.com/pyhealth/Synthetic_MIMIC-III/PATIENTS.csv\n",
            "Some column names were converted to lowercase\n",
            "Scanning table: admissions from https://storage.googleapis.com/pyhealth/Synthetic_MIMIC-III/ADMISSIONS.csv.gz\n",
            "Original path does not exist. Using alternative: https://storage.googleapis.com/pyhealth/Synthetic_MIMIC-III/ADMISSIONS.csv\n",
            "Some column names were converted to lowercase\n",
            "Scanning table: icustays from https://storage.googleapis.com/pyhealth/Synthetic_MIMIC-III/ICUSTAYS.csv.gz\n",
            "Original path does not exist. Using alternative: https://storage.googleapis.com/pyhealth/Synthetic_MIMIC-III/ICUSTAYS.csv\n",
            "Some column names were converted to lowercase\n",
            "Scanning table: diagnoses_icd from https://storage.googleapis.com/pyhealth/Synthetic_MIMIC-III/DIAGNOSES_ICD.csv.gz\n",
            "Original path does not exist. Using alternative: https://storage.googleapis.com/pyhealth/Synthetic_MIMIC-III/DIAGNOSES_ICD.csv\n",
            "Some column names were converted to lowercase\n",
            "Joining with table: https://storage.googleapis.com/pyhealth/Synthetic_MIMIC-III/ADMISSIONS.csv.gz\n",
            "Original path does not exist. Using alternative: https://storage.googleapis.com/pyhealth/Synthetic_MIMIC-III/ADMISSIONS.csv\n",
            "Scanning table: procedures_icd from https://storage.googleapis.com/pyhealth/Synthetic_MIMIC-III/PROCEDURES_ICD.csv.gz\n",
            "Original path does not exist. Using alternative: https://storage.googleapis.com/pyhealth/Synthetic_MIMIC-III/PROCEDURES_ICD.csv\n",
            "Some column names were converted to lowercase\n",
            "Joining with table: https://storage.googleapis.com/pyhealth/Synthetic_MIMIC-III/ADMISSIONS.csv.gz\n",
            "Original path does not exist. Using alternative: https://storage.googleapis.com/pyhealth/Synthetic_MIMIC-III/ADMISSIONS.csv\n",
            "Scanning table: prescriptions from https://storage.googleapis.com/pyhealth/Synthetic_MIMIC-III/PRESCRIPTIONS.csv.gz\n",
            "Original path does not exist. Using alternative: https://storage.googleapis.com/pyhealth/Synthetic_MIMIC-III/PRESCRIPTIONS.csv\n",
            "Some column names were converted to lowercase\n",
            "Joining with table: https://storage.googleapis.com/pyhealth/Synthetic_MIMIC-III/ADMISSIONS.csv.gz\n",
            "Original path does not exist. Using alternative: https://storage.googleapis.com/pyhealth/Synthetic_MIMIC-III/ADMISSIONS.csv\n",
            "Collecting global event dataframe...\n",
            "Dev mode enabled: limiting to 1000 patients\n",
            "Collected dataframe with shape: (42965, 49)\n",
            "Dataset: mimic3\n",
            "Dev mode: True\n",
            "Number of patients: 1000\n",
            "Number of events: 42965\n"
          ]
        }
      ],
      "source": [
        "from pyhealth.datasets import MIMIC3Dataset\n",
        "\n",
        "dataset = MIMIC3Dataset(\n",
        "    root=\"https://storage.googleapis.com/pyhealth/Synthetic_MIMIC-III\",\n",
        "    tables=[\"DIAGNOSES_ICD\", \"PROCEDURES_ICD\", \"PRESCRIPTIONS\"],\n",
        "    dev=True,\n",
        ")\n",
        "dataset.stats()\n",
        "\n"
      ]
    },
    {
      "cell_type": "markdown",
      "metadata": {},
      "source": [
        "## Set Drug Recommendation Task\n",
        "\n",
        "Use the `DrugRecommendationMIMIC3` task function which creates samples with conditions, procedures, and atc-3 codes (drugs).\n",
        "\n"
      ]
    },
    {
      "cell_type": "code",
      "execution_count": 2,
      "metadata": {},
      "outputs": [
        {
          "name": "stdout",
          "output_type": "stream",
          "text": [
            "Setting task DrugRecommendationMIMIC3 for mimic3 base dataset...\n",
            "Generating samples with 4 worker(s)...\n",
            "Generating samples for DrugRecommendationMIMIC3 with 4 workers\n"
          ]
        },
        {
          "name": "stderr",
          "output_type": "stream",
          "text": [
            "Collecting samples for DrugRecommendationMIMIC3 from 4 workers: 100%|██████████| 1000/1000 [00:00<00:00, 4391.46it/s]"
          ]
        },
        {
          "name": "stdout",
          "output_type": "stream",
          "text": [
            "Label drugs vocab: {'*NF*': 0, '1/2 ': 1, 'Acet': 2, 'Albu': 3, 'Allo': 4, 'Alte': 5, 'Alum': 6, 'Ambi': 7, 'Amio': 8, 'Amlo': 9, 'Ampi': 10, 'Arip': 11, 'Arti': 12, 'Asco': 13, 'Aspi': 14, 'Aten': 15, 'Ator': 16, 'Atov': 17, 'Atro': 18, 'Aztr': 19, 'Baci': 20, 'Bacl': 21, 'Bisa': 22, 'Brim': 23, 'BuPR': 24, 'Bume': 25, 'Bupi': 26, 'Calc': 27, 'Capt': 28, 'Casp': 29, 'Cefa': 30, 'Cefe': 31, 'Ceft': 32, 'Cepa': 33, 'Ceph': 34, 'Cety': 35, 'Chlo': 36, 'Cipr': 37, 'Cisa': 38, 'Cita': 39, 'Clin': 40, 'Clob': 41, 'Clon': 42, 'Code': 43, 'Cosy': 44, 'Cyan': 45, 'Cycl': 46, 'D5 1': 47, 'D5NS': 48, 'D5W': 49, 'D5W ': 50, 'DOBU': 51, 'DOPa': 52, 'Dapt': 53, 'Dexa': 54, 'Dexm': 55, 'Dext': 56, 'Diaz': 57, 'Dilt': 58, 'Diph': 59, 'Docu': 60, 'Dola': 61, 'Doxe': 62, 'Doxy': 63, 'Dulo': 64, 'Enal': 65, 'Enox': 66, 'Epin': 67, 'Epoe': 68, 'Epti': 69, 'Ergo': 70, 'Eryt': 71, 'Esmo': 72, 'Famo': 73, 'Felb': 74, 'Fent': 75, 'Ferr': 76, 'Fish': 77, 'Fluc': 78, 'Flut': 79, 'FoLI': 80, 'Foli': 81, 'Furo': 82, 'Gaba': 83, 'Gent': 84, 'Glip': 85, 'Gluc': 86, 'Glyc': 87, 'Guai': 88, 'HYDR': 89, 'Halo': 90, 'Hepa': 91, 'Humu': 92, 'Hydr': 93, 'Ibup': 94, 'Infl': 95, 'Insu': 96, 'Ipra': 97, 'Isop': 98, 'Isos': 99, 'Iver': 100, 'Keto': 101, 'LR': 102, 'LaMO': 103, 'Labe': 104, 'Lact': 105, 'Lans': 106, 'Levo': 107, 'Lido': 108, 'Line': 109, 'Lisi': 110, 'Lora': 111, 'Magn': 112, 'Mepe': 113, 'Mero': 114, 'MetF': 115, 'MetR': 116, 'Meth': 117, 'Meto': 118, 'Metr': 119, 'Mico': 120, 'Mida': 121, 'Mido': 122, 'Milk': 123, 'Milr': 124, 'Mono': 125, 'Mont': 126, 'Morp': 127, 'Mult': 128, 'Mupi': 129, 'Myco': 130, 'NEO*': 131, 'NORe': 132, 'NS': 133, 'NS (': 134, 'Nalo': 135, 'Neos': 136, 'Neut': 137, 'Nico': 138, 'Nitr': 139, 'Nore': 140, 'Nyst': 141, 'Olan': 142, 'Omep': 143, 'Onda': 144, 'Oxyc': 145, 'Pang': 146, 'Pant': 147, 'Papa': 148, 'Paro': 149, 'Phen': 150, 'Phos': 151, 'Phyt': 152, 'Piog': 153, 'Pipe': 154, 'Pneu': 155, 'Poly': 156, 'Pota': 157, 'Prav': 158, 'Pred': 159, 'Proc': 160, 'Prop': 161, 'Prot': 162, 'Quet': 163, 'Race': 164, 'Rani': 165, 'Rifa': 166, 'Senn': 167, 'Sime': 168, 'Simv': 169, 'Sodi': 170, 'Succ': 171, 'Sucr': 172, 'Sulf': 173, 'Tams': 174, 'Tema': 175, 'TraM': 176, 'Tria': 177, 'Tube': 178, 'Valp': 179, 'Vals': 180, 'Vanc': 181, 'Vaso': 182, 'Vera': 183, 'Vita': 184, 'Warf': 185, 'Zipr': 186, 'Zolp': 187, 'traZ': 188}\n"
          ]
        },
        {
          "name": "stderr",
          "output_type": "stream",
          "text": [
            "\n",
            "Processing samples: 100%|██████████| 30/30 [00:00<00:00, 785.20it/s]"
          ]
        },
        {
          "name": "stdout",
          "output_type": "stream",
          "text": [
            "Generated 30 samples for task DrugRecommendationMIMIC3\n"
          ]
        },
        {
          "name": "stderr",
          "output_type": "stream",
          "text": [
            "\n"
          ]
        },
        {
          "name": "stdout",
          "output_type": "stream",
          "text": [
            "Sample Dataset Statistics:\n",
            "\t- Dataset: mimic3\n",
            "\t- Task: <pyhealth.tasks.drug_recommendation.DrugRecommendationMIMIC3 object at 0x12f073d70>\n",
            "\t- Number of samples: 30\n",
            "\n",
            "First sample structure:\n",
            "Patient ID: 27502\n",
            "Number of visits: 1\n",
            "Sample conditions (first visit): tensor([1, 2, 3, 4, 5])...\n",
            "Sample procedures (first visit): tensor([1, 2, 3, 4, 5])...\n",
            "Sample drugs (target): tensor([0., 1., 1., 1., 0., 0., 0., 0., 0., 0.])...\n"
          ]
        }
      ],
      "source": [
        "from pyhealth.tasks import DrugRecommendationMIMIC3\n",
        "\n",
        "task = DrugRecommendationMIMIC3()\n",
        "samples = dataset.set_task(task, num_workers=4)\n",
        "\n",
        "print(f\"Sample Dataset Statistics:\")\n",
        "print(f\"\\t- Dataset: {samples.dataset_name}\")\n",
        "print(f\"\\t- Task: {samples.task_name}\")\n",
        "print(f\"\\t- Number of samples: {len(samples)}\")\n",
        "\n",
        "print(\"\\nFirst sample structure:\")\n",
        "print(f\"Patient ID: {samples.samples[0]['patient_id']}\")\n",
        "print(f\"Number of visits: {len(samples.samples[0]['conditions'])}\")\n",
        "print(f\"Sample conditions (first visit): {samples.samples[0]['conditions'][0][:5]}...\")\n",
        "print(f\"Sample procedures (first visit): {samples.samples[0]['procedures'][0][:5]}...\")\n",
        "print(f\"Sample drugs (target): {samples.samples[0]['drugs'][:10]}...\")\n",
        "\n"
      ]
    },
    {
      "cell_type": "markdown",
      "metadata": {},
      "source": [
        "## Split Dataset and Create Data Loaders\n",
        "\n",
        "Split the dataset by patient to ensure no data leakage between train/validation/test sets.\n",
        "\n"
      ]
    },
    {
      "cell_type": "code",
      "execution_count": 3,
      "metadata": {},
      "outputs": [
        {
          "name": "stdout",
          "output_type": "stream",
          "text": [
            "Train samples: 20\n",
            "Validation samples: 2\n",
            "Test samples: 8\n"
          ]
        }
      ],
      "source": [
        "from pyhealth.datasets import split_by_patient, get_dataloader\n",
        "\n",
        "train_dataset, val_dataset, test_dataset = split_by_patient(\n",
        "    samples, ratios=[0.7, 0.1, 0.2]\n",
        ")\n",
        "\n",
        "print(f\"Train samples: {len(train_dataset)}\")\n",
        "print(f\"Validation samples: {len(val_dataset)}\")\n",
        "print(f\"Test samples: {len(test_dataset)}\")\n",
        "\n",
        "train_dataloader = get_dataloader(train_dataset, batch_size=32, shuffle=True)\n",
        "val_dataloader = get_dataloader(val_dataset, batch_size=32, shuffle=False)\n",
        "test_dataloader = get_dataloader(test_dataset, batch_size=32, shuffle=False)\n",
        "\n"
      ]
    },
    {
      "cell_type": "markdown",
      "metadata": {},
      "source": [
        "## Initialize SafeDrug Model\n"
      ]
    },
    {
      "cell_type": "code",
      "execution_count": 4,
      "metadata": {},
      "outputs": [
        {
          "name": "stderr",
          "output_type": "stream",
          "text": [
            "/Users/arjunchatterjee/PyHealth/pyhealth/sampler/sage_sampler.py:3: UserWarning: pkg_resources is deprecated as an API. See https://setuptools.pypa.io/en/latest/pkg_resources.html. The pkg_resources package is slated for removal as early as 2025-11-30. Refrain from using this package or pin to Setuptools<81.\n",
            "  import pkg_resources\n"
          ]
        },
        {
          "name": "stdout",
          "output_type": "stream",
          "text": [
            "SafeDrug(\n",
            "  (embedding_model): EmbeddingModel(embedding_layers=ModuleDict(\n",
            "    (conditions): Embedding(202, 128)\n",
            "    (procedures): Embedding(81, 128)\n",
            "    (drugs_hist): Embedding(146, 128)\n",
            "  ))\n",
            "  (cond_rnn): GRU(128, 128, batch_first=True)\n",
            "  (proc_rnn): GRU(128, 128, batch_first=True)\n",
            "  (query): Sequential(\n",
            "    (0): ReLU()\n",
            "    (1): Linear(in_features=256, out_features=128, bias=True)\n",
            "  )\n",
            "  (safedrug): SafeDrugLayer(\n",
            "    (bipartite_transform): Linear(in_features=128, out_features=0, bias=True)\n",
            "    (bipartite_output): Linear(in_features=0, out_features=189, bias=True)\n",
            "    (mpnn): MolecularGraphNeuralNetwork(\n",
            "      (embed_fingerprint): Embedding(1, 128)\n",
            "      (W_fingerprint): ModuleList(\n",
            "        (0-1): 2 x Linear(in_features=128, out_features=128, bias=True)\n",
            "      )\n",
            "    )\n",
            "    (mpnn_output): Linear(in_features=189, out_features=189, bias=True)\n",
            "    (mpnn_layernorm): LayerNorm((189,), eps=1e-05, elementwise_affine=True)\n",
            "    (test): Linear(in_features=128, out_features=189, bias=True)\n",
            "    (loss_fn): BCEWithLogitsLoss()\n",
            "  )\n",
            ")\n"
          ]
        },
        {
          "name": "stderr",
          "output_type": "stream",
          "text": [
            "/usr/local/Caskroom/miniforge/base/lib/python3.12/site-packages/torch/nn/init.py:452: UserWarning: Initializing zero-element tensors is a no-op\n",
            "  warnings.warn(\"Initializing zero-element tensors is a no-op\")\n"
          ]
        }
      ],
      "source": [
        "from pyhealth.models import SafeDrug\n",
        "\n",
        "model = SafeDrug(\n",
        "    dataset=samples,\n",
        "    embedding_dim=128,\n",
        "    hidden_dim=128,\n",
        "    num_layers=1,\n",
        "    dropout=0.5,\n",
        ")\n",
        "\n",
        "print(model)\n",
        "\n"
      ]
    },
    {
      "cell_type": "markdown",
      "metadata": {},
      "source": [
        "## Initialize Trainer\n",
        "\n",
        "We use jaccard similarity, f1 score, pr_auc, ddi score.\n",
        "\n"
      ]
    },
    {
      "cell_type": "code",
      "execution_count": 5,
      "metadata": {},
      "outputs": [
        {
          "name": "stdout",
          "output_type": "stream",
          "text": [
            "SafeDrug(\n",
            "  (embedding_model): EmbeddingModel(embedding_layers=ModuleDict(\n",
            "    (conditions): Embedding(202, 128)\n",
            "    (procedures): Embedding(81, 128)\n",
            "    (drugs_hist): Embedding(146, 128)\n",
            "  ))\n",
            "  (cond_rnn): GRU(128, 128, batch_first=True)\n",
            "  (proc_rnn): GRU(128, 128, batch_first=True)\n",
            "  (query): Sequential(\n",
            "    (0): ReLU()\n",
            "    (1): Linear(in_features=256, out_features=128, bias=True)\n",
            "  )\n",
            "  (safedrug): SafeDrugLayer(\n",
            "    (bipartite_transform): Linear(in_features=128, out_features=0, bias=True)\n",
            "    (bipartite_output): Linear(in_features=0, out_features=189, bias=True)\n",
            "    (mpnn): MolecularGraphNeuralNetwork(\n",
            "      (embed_fingerprint): Embedding(1, 128)\n",
            "      (W_fingerprint): ModuleList(\n",
            "        (0-1): 2 x Linear(in_features=128, out_features=128, bias=True)\n",
            "      )\n",
            "    )\n",
            "    (mpnn_output): Linear(in_features=189, out_features=189, bias=True)\n",
            "    (mpnn_layernorm): LayerNorm((189,), eps=1e-05, elementwise_affine=True)\n",
            "    (test): Linear(in_features=128, out_features=189, bias=True)\n",
            "    (loss_fn): BCEWithLogitsLoss()\n",
            "  )\n",
            ")\n",
            "Metrics: ['jaccard_samples', 'f1_samples', 'pr_auc_samples', 'ddi']\n",
            "Device: cpu\n",
            "\n",
            "Baseline performance before training:\n"
          ]
        },
        {
          "name": "stderr",
          "output_type": "stream",
          "text": [
            "Evaluation: 100%|██████████| 1/1 [00:01<00:00,  1.75s/it]\n"
          ]
        },
        {
          "name": "stdout",
          "output_type": "stream",
          "text": [
            "{'jaccard_samples': 0.20634920634920634, 'f1_samples': 0.3223905953620956, 'pr_auc_samples': 0.20634920634920634, 'ddi_score': 0.0, 'loss': 0.6931473016738892}\n"
          ]
        }
      ],
      "source": [
        "from pyhealth.trainer import Trainer\n",
        "\n",
        "trainer = Trainer(\n",
        "    model=model,\n",
        "    metrics=[\"jaccard_samples\", \"f1_samples\", \"pr_auc_samples\", \"ddi\"],\n",
        ")\n",
        "\n",
        "print(\"Baseline performance before training:\")\n",
        "baseline_results = trainer.evaluate(test_dataloader)\n",
        "print(baseline_results)\n",
        "\n"
      ]
    },
    {
      "cell_type": "markdown",
      "metadata": {},
      "source": [
        "## Train the Model\n",
        "\n",
        "Train the model for a few epochs. I used 5 epochs here. Might need to train for more epochs in prod.\n",
        "\n"
      ]
    },
    {
      "cell_type": "code",
      "execution_count": 6,
      "metadata": {},
      "outputs": [
        {
          "name": "stdout",
          "output_type": "stream",
          "text": [
            "Training:\n",
            "Batch size: 32\n",
            "Optimizer: <class 'torch.optim.adam.Adam'>\n",
            "Optimizer params: {'lr': 0.0001}\n",
            "Weight decay: 0.0\n",
            "Max grad norm: None\n",
            "Val dataloader: <torch.utils.data.dataloader.DataLoader object at 0x12f09cf20>\n",
            "Monitor: pr_auc_samples\n",
            "Monitor criterion: max\n",
            "Epochs: 5\n",
            "\n"
          ]
        },
        {
          "name": "stderr",
          "output_type": "stream",
          "text": [
            "Epoch 0 / 5: 100%|██████████| 1/1 [00:02<00:00,  2.35s/it]"
          ]
        },
        {
          "name": "stdout",
          "output_type": "stream",
          "text": [
            "--- Train epoch-0, step-1 ---\n",
            "loss: 0.6931\n"
          ]
        },
        {
          "name": "stderr",
          "output_type": "stream",
          "text": [
            "\n",
            "Evaluation: 100%|██████████| 1/1 [00:00<00:00, 211.14it/s]\n"
          ]
        },
        {
          "name": "stdout",
          "output_type": "stream",
          "text": [
            "--- Eval epoch-0, step-1 ---\n",
            "jaccard_samples: 0.0238\n",
            "f1_samples: 0.0465\n",
            "pr_auc_samples: 0.0455\n",
            "ddi_score: 0.0000\n",
            "loss: 0.6931\n",
            "New best pr_auc_samples score (0.0455) at epoch-0, step-1\n",
            "\n"
          ]
        },
        {
          "name": "stderr",
          "output_type": "stream",
          "text": [
            "Epoch 1 / 5: 100%|██████████| 1/1 [00:00<00:00, 26.44it/s]"
          ]
        },
        {
          "name": "stdout",
          "output_type": "stream",
          "text": [
            "--- Train epoch-1, step-2 ---\n",
            "loss: 0.6931\n"
          ]
        },
        {
          "name": "stderr",
          "output_type": "stream",
          "text": [
            "\n",
            "Evaluation: 100%|██████████| 1/1 [00:00<00:00, 170.98it/s]\n"
          ]
        },
        {
          "name": "stdout",
          "output_type": "stream",
          "text": [
            "--- Eval epoch-1, step-2 ---\n",
            "jaccard_samples: 0.0238\n",
            "f1_samples: 0.0465\n",
            "pr_auc_samples: 0.0459\n",
            "ddi_score: 0.0000\n",
            "loss: 0.6931\n",
            "New best pr_auc_samples score (0.0459) at epoch-1, step-2\n",
            "\n"
          ]
        },
        {
          "name": "stderr",
          "output_type": "stream",
          "text": [
            "Epoch 2 / 5: 100%|██████████| 1/1 [00:00<00:00, 47.51it/s]"
          ]
        },
        {
          "name": "stdout",
          "output_type": "stream",
          "text": [
            "--- Train epoch-2, step-3 ---\n",
            "loss: 0.6931\n"
          ]
        },
        {
          "name": "stderr",
          "output_type": "stream",
          "text": [
            "\n",
            "Evaluation: 100%|██████████| 1/1 [00:00<00:00, 238.79it/s]\n"
          ]
        },
        {
          "name": "stdout",
          "output_type": "stream",
          "text": [
            "--- Eval epoch-2, step-3 ---\n",
            "jaccard_samples: 0.0238\n",
            "f1_samples: 0.0465\n",
            "pr_auc_samples: 0.0474\n",
            "ddi_score: 0.0000\n",
            "loss: 0.6930\n",
            "New best pr_auc_samples score (0.0474) at epoch-2, step-3\n",
            "\n"
          ]
        },
        {
          "name": "stderr",
          "output_type": "stream",
          "text": [
            "Epoch 3 / 5: 100%|██████████| 1/1 [00:00<00:00, 49.67it/s]"
          ]
        },
        {
          "name": "stdout",
          "output_type": "stream",
          "text": [
            "--- Train epoch-3, step-4 ---\n",
            "loss: 0.6931\n"
          ]
        },
        {
          "name": "stderr",
          "output_type": "stream",
          "text": [
            "\n",
            "Evaluation: 100%|██████████| 1/1 [00:00<00:00, 204.54it/s]\n"
          ]
        },
        {
          "name": "stdout",
          "output_type": "stream",
          "text": [
            "--- Eval epoch-3, step-4 ---\n",
            "jaccard_samples: 0.0238\n",
            "f1_samples: 0.0465\n",
            "pr_auc_samples: 0.0472\n",
            "ddi_score: 0.0000\n",
            "loss: 0.6930\n",
            "\n"
          ]
        },
        {
          "name": "stderr",
          "output_type": "stream",
          "text": [
            "Epoch 4 / 5: 100%|██████████| 1/1 [00:00<00:00, 50.79it/s]"
          ]
        },
        {
          "name": "stdout",
          "output_type": "stream",
          "text": [
            "--- Train epoch-4, step-5 ---\n",
            "loss: 0.6930\n"
          ]
        },
        {
          "name": "stderr",
          "output_type": "stream",
          "text": [
            "\n",
            "Evaluation: 100%|██████████| 1/1 [00:00<00:00, 242.12it/s]\n"
          ]
        },
        {
          "name": "stdout",
          "output_type": "stream",
          "text": [
            "--- Eval epoch-4, step-5 ---\n",
            "jaccard_samples: 0.0238\n",
            "f1_samples: 0.0465\n",
            "pr_auc_samples: 0.0473\n",
            "ddi_score: 0.0000\n",
            "loss: 0.6930\n",
            "Loaded best model\n"
          ]
        }
      ],
      "source": [
        "trainer.train(\n",
        "    train_dataloader=train_dataloader,\n",
        "    val_dataloader=val_dataloader,\n",
        "    epochs=5,\n",
        "    monitor=\"pr_auc_samples\",\n",
        "    optimizer_params={\"lr\": 1e-4},\n",
        ")\n",
        "\n"
      ]
    },
    {
      "cell_type": "markdown",
      "metadata": {},
      "source": [
        "## Evaluate on Test Set\n",
        "\n",
        "Evaluate the trained model on the test set to see final performance metrics.\n",
        "\n",
        "I get DDI = 0. That is abnormally low. (In a good way, I guess?)"
      ]
    },
    {
      "cell_type": "code",
      "execution_count": 7,
      "metadata": {},
      "outputs": [
        {
          "name": "stderr",
          "output_type": "stream",
          "text": [
            "Evaluation: 100%|██████████| 1/1 [00:00<00:00, 132.90it/s]\n"
          ]
        },
        {
          "name": "stdout",
          "output_type": "stream",
          "text": [
            "Final test set performance:\n",
            "{'jaccard_samples': 0.20634920634920634, 'f1_samples': 0.3223905953620956, 'pr_auc_samples': 0.3572734935051531, 'ddi_score': 0.0, 'loss': 0.6930726766586304}\n",
            "\n",
            "Key Metrics:\n",
            "  PR-AUC: 0.3573\n",
            "  F1 Score: 0.3224\n",
            "  Jaccard: 0.2063\n",
            "  DDI Rate: 0.0000 (lower is better)\n"
          ]
        }
      ],
      "source": [
        "test_results = trainer.evaluate(test_dataloader)\n",
        "print(\"Final test set performance:\")\n",
        "print(test_results)\n",
        "\n",
        "print(f\"\\nKey Metrics:\")\n",
        "print(f\"  PR-AUC: {test_results.get('pr_auc_samples', 'N/A'):.4f}\")\n",
        "print(f\"  F1 Score: {test_results.get('f1_samples', 'N/A'):.4f}\")\n",
        "print(f\"  Jaccard: {test_results.get('jaccard_samples', 'N/A'):.4f}\")\n",
        "print(f\"  DDI Rate: {test_results.get('ddi_score', 'N/A'):.4f} (lower is better)\")\n",
        "\n"
      ]
    }
  ],
  "metadata": {
    "kernelspec": {
      "display_name": "base",
      "language": "python",
      "name": "python3"
    },
    "language_info": {
      "codemirror_mode": {
        "name": "ipython",
        "version": 3
      },
      "file_extension": ".py",
      "mimetype": "text/x-python",
      "name": "python",
      "nbconvert_exporter": "python",
      "pygments_lexer": "ipython3",
      "version": "3.12.11"
    }
  },
  "nbformat": 4,
  "nbformat_minor": 2
}
